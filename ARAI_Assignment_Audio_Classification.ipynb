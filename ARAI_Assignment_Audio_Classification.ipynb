{
  "cells": [
    {
      "cell_type": "markdown",
      "metadata": {
        "id": "view-in-github",
        "colab_type": "text"
      },
      "source": [
        "<a href=\"https://colab.research.google.com/github/praddhumnasoni/ARAI-Assingment/blob/main/ARAI_Assignment_Audio_Classification.ipynb\" target=\"_parent\"><img src=\"https://colab.research.google.com/assets/colab-badge.svg\" alt=\"Open In Colab\"/></a>"
      ]
    },
    {
      "cell_type": "code",
      "execution_count": null,
      "metadata": {
        "colab": {
          "base_uri": "https://localhost:8080/"
        },
        "id": "aHZMPf0Z8Ro_",
        "outputId": "c961e7ad-bb76-42d2-e1c5-396f94cfaa61"
      },
      "outputs": [
        {
          "output_type": "stream",
          "name": "stdout",
          "text": [
            "--2022-07-20 05:14:12--  https://zenodo.org/record/1203745/files/UrbanSound8K.tar.gz\n",
            "Resolving zenodo.org (zenodo.org)... 137.138.76.77\n",
            "Connecting to zenodo.org (zenodo.org)|137.138.76.77|:443... connected.\n",
            "HTTP request sent, awaiting response... 200 OK\n",
            "Length: 6023741708 (5.6G) [application/octet-stream]\n",
            "Saving to: ‘urban8k.tgz’\n",
            "\n",
            "urban8k.tgz         100%[===================>]   5.61G  19.1MB/s    in 4m 11s  \n",
            "\n",
            "2022-07-20 05:18:26 (22.8 MB/s) - ‘urban8k.tgz’ saved [6023741708/6023741708]\n",
            "\n"
          ]
        }
      ],
      "source": [
        "# Unzip dataset\n",
        "!wget https://zenodo.org/record/1203745/files/UrbanSound8K.tar.gz -O urban8k.tgz\n",
        "!tar -xzf urban8k.tgz\n",
        "!rm urban8k.tgz"
      ]
    },
    {
      "cell_type": "code",
      "execution_count": null,
      "metadata": {
        "id": "IdIUYFC1_6ku",
        "colab": {
          "base_uri": "https://localhost:8080/"
        },
        "outputId": "0a2d13ce-01a9-4a2d-b968-5b99b8ae118c"
      },
      "outputs": [
        {
          "output_type": "stream",
          "name": "stderr",
          "text": [
            "/usr/local/lib/python3.7/dist-packages/resampy/interpn.py:114: NumbaWarning: The TBB threading layer requires TBB version 2019.5 or later i.e., TBB_INTERFACE_VERSION >= 11005. Found TBB_INTERFACE_VERSION = 9107. The TBB threading layer is disabled.\n",
            "  _resample_loop_p(x, t_out, interp_win, interp_delta, num_table, scale, y)\n"
          ]
        }
      ],
      "source": [
        "#Importing Library\n",
        "import librosa \n",
        "import matplotlib.pyplot as plt\n",
        "import numpy as np\n",
        "import pandas as pd\n",
        "from tqdm import tqdm\n",
        "import os\n",
        "import IPython.display"
      ]
    },
    {
      "cell_type": "code",
      "execution_count": null,
      "metadata": {
        "id": "el73WCE7B-9f"
      },
      "outputs": [],
      "source": [
        "#Testing with one Audio data file\n",
        "audio_file_path = 'UrbanSound8K/audio/fold1/102106-3-0-0.wav'\n",
        "librosa_audio_data,librosa_sample_rate=librosa.load(audio_file_path)"
      ]
    },
    {
      "cell_type": "code",
      "execution_count": null,
      "metadata": {
        "colab": {
          "base_uri": "https://localhost:8080/"
        },
        "id": "gaxWkoetDQTR",
        "outputId": "10138d4d-7b0e-4e8c-8eea-543053306c8d"
      },
      "outputs": [
        {
          "output_type": "stream",
          "name": "stdout",
          "text": [
            "[ 0.00652341  0.00239341 -0.00151045 ...  0.00088413 -0.00176583\n",
            "  0.00274018]\n"
          ]
        }
      ],
      "source": [
        "print(librosa_audio_data) #printing imported data"
      ]
    },
    {
      "cell_type": "code",
      "execution_count": null,
      "metadata": {
        "colab": {
          "base_uri": "https://localhost:8080/",
          "height": 300
        },
        "id": "kzTVvRHREItA",
        "outputId": "fb34a4af-e7e8-482c-83b7-142a97e41550"
      },
      "outputs": [
        {
          "output_type": "stream",
          "name": "stdout",
          "text": [
            "[ 0.00652341  0.00239341 -0.00151045 ...  0.00088413 -0.00176583\n",
            "  0.00274018]\n"
          ]
        },
        {
          "output_type": "display_data",
          "data": {
            "text/plain": [
              "<Figure size 864x288 with 1 Axes>"
            ],
            "image/png": "[encoded data removed]"
          },
          "metadata": {
            "needs_background": "light"
          }
        }
      ],
      "source": [
        "#Plotting loaded Audio data\n",
        "plt.figure(figsize=(12,4))\n",
        "plt.plot(librosa_audio_data)\n",
        "print(librosa_audio_data)"
      ]
    },
    {
      "cell_type": "code",
      "execution_count": null,
      "metadata": {
        "id": "Kjscpe_sEzqP"
      },
      "outputs": [],
      "source": [
        "#Tring similar thing with different Library\n",
        "from scipy.io import wavfile as wav\n",
        "wave_sample_rate, wave_audio = wav.read(audio_file_path) "
      ]
    },
    {
      "cell_type": "code",
      "execution_count": null,
      "metadata": {
        "colab": {
          "base_uri": "https://localhost:8080/",
          "height": 386
        },
        "id": "uMV9TA_YFIlz",
        "outputId": "958098d7-4423-4af6-9e23-1ee783b94678"
      },
      "outputs": [
        {
          "output_type": "stream",
          "name": "stdout",
          "text": [
            "[[-385  996]\n",
            " [-378  810]\n",
            " [-539  588]\n",
            " ...\n",
            " [-193    4]\n",
            " [ 103  192]\n",
            " [ 177  226]]\n"
          ]
        },
        {
          "output_type": "display_data",
          "data": {
            "text/plain": [
              "<Figure size 864x288 with 1 Axes>"
            ],
            "image/png": "[encoded data removed]"
          },
          "metadata": {
            "needs_background": "light"
          }
        }
      ],
      "source": [
        "#Plotting Stereo Audio Data\n",
        "plt.figure(figsize=(12,4))\n",
        "plt.plot(wave_audio)\n",
        "print(wave_audio)"
      ]
    },
    {
      "cell_type": "code",
      "execution_count": null,
      "metadata": {
        "colab": {
          "base_uri": "https://localhost:8080/",
          "height": 363
        },
        "id": "hQXHCWrcGp8x",
        "outputId": "d45839ef-af60-411f-ba78-5ec4893d2f9c"
      },
      "outputs": [
        {
          "output_type": "execute_result",
          "data": {
            "text/plain": [
              "      slice_file_name    fsID      start        end  salience  fold  classID  \\\n",
              "0    100032-3-0-0.wav  100032   0.000000   0.317551         1     5        3   \n",
              "1  100263-2-0-117.wav  100263  58.500000  62.500000         1     5        2   \n",
              "2  100263-2-0-121.wav  100263  60.500000  64.500000         1     5        2   \n",
              "3  100263-2-0-126.wav  100263  63.000000  67.000000         1     5        2   \n",
              "4  100263-2-0-137.wav  100263  68.500000  72.500000         1     5        2   \n",
              "5  100263-2-0-143.wav  100263  71.500000  75.500000         1     5        2   \n",
              "6  100263-2-0-161.wav  100263  80.500000  84.500000         1     5        2   \n",
              "7    100263-2-0-3.wav  100263   1.500000   5.500000         1     5        2   \n",
              "8   100263-2-0-36.wav  100263  18.000000  22.000000         1     5        2   \n",
              "9    100648-1-0-0.wav  100648   4.823402   5.471927         2    10        1   \n",
              "\n",
              "              class  \n",
              "0          dog_bark  \n",
              "1  children_playing  \n",
              "2  children_playing  \n",
              "3  children_playing  \n",
              "4  children_playing  \n",
              "5  children_playing  \n",
              "6  children_playing  \n",
              "7  children_playing  \n",
              "8  children_playing  \n",
              "9          car_horn  "
            ],
            "text/html": [
              "\n",
              "  <div id=\"df-6e417f4b-9aa5-4297-b203-c8823c79d50e\">\n",
              "    <div class=\"colab-df-container\">\n",
              "      <div>\n",
              "<style scoped>\n",
              "    .dataframe tbody tr th:only-of-type {\n",
              "        vertical-align: middle;\n",
              "    }\n",
              "\n",
              "    .dataframe tbody tr th {\n",
              "        vertical-align: top;\n",
              "    }\n",
              "\n",
              "    .dataframe thead th {\n",
              "        text-align: right;\n",
              "    }\n",
              "</style>\n",
              "<table border=\"1\" class=\"dataframe\">\n",
              "  <thead>\n",
              "    <tr style=\"text-align: right;\">\n",
              "      <th></th>\n",
              "      <th>slice_file_name</th>\n",
              "      <th>fsID</th>\n",
              "      <th>start</th>\n",
              "      <th>end</th>\n",
              "      <th>salience</th>\n",
              "      <th>fold</th>\n",
              "      <th>classID</th>\n",
              "      <th>class</th>\n",
              "    </tr>\n",
              "  </thead>\n",
              "  <tbody>\n",
              "    <tr>\n",
              "      <th>0</th>\n",
              "      <td>100032-3-0-0.wav</td>\n",
              "      <td>100032</td>\n",
              "      <td>0.000000</td>\n",
              "      <td>0.317551</td>\n",
              "      <td>1</td>\n",
              "      <td>5</td>\n",
              "      <td>3</td>\n",
              "      <td>dog_bark</td>\n",
              "    </tr>\n",
              "    <tr>\n",
              "      <th>1</th>\n",
              "      <td>100263-2-0-117.wav</td>\n",
              "      <td>100263</td>\n",
              "      <td>58.500000</td>\n",
              "      <td>62.500000</td>\n",
              "      <td>1</td>\n",
              "      <td>5</td>\n",
              "      <td>2</td>\n",
              "      <td>children_playing</td>\n",
              "    </tr>\n",
              "    <tr>\n",
              "      <th>2</th>\n",
              "      <td>100263-2-0-121.wav</td>\n",
              "      <td>100263</td>\n",
              "      <td>60.500000</td>\n",
              "      <td>64.500000</td>\n",
              "      <td>1</td>\n",
              "      <td>5</td>\n",
              "      <td>2</td>\n",
              "      <td>children_playing</td>\n",
              "    </tr>\n",
              "    <tr>\n",
              "      <th>3</th>\n",
              "      <td>100263-2-0-126.wav</td>\n",
              "      <td>100263</td>\n",
              "      <td>63.000000</td>\n",
              "      <td>67.000000</td>\n",
              "      <td>1</td>\n",
              "      <td>5</td>\n",
              "      <td>2</td>\n",
              "      <td>children_playing</td>\n",
              "    </tr>\n",
              "    <tr>\n",
              "      <th>4</th>\n",
              "      <td>100263-2-0-137.wav</td>\n",
              "      <td>100263</td>\n",
              "      <td>68.500000</td>\n",
              "      <td>72.500000</td>\n",
              "      <td>1</td>\n",
              "      <td>5</td>\n",
              "      <td>2</td>\n",
              "      <td>children_playing</td>\n",
              "    </tr>\n",
              "    <tr>\n",
              "      <th>5</th>\n",
              "      <td>100263-2-0-143.wav</td>\n",
              "      <td>100263</td>\n",
              "      <td>71.500000</td>\n",
              "      <td>75.500000</td>\n",
              "      <td>1</td>\n",
              "      <td>5</td>\n",
              "      <td>2</td>\n",
              "      <td>children_playing</td>\n",
              "    </tr>\n",
              "    <tr>\n",
              "      <th>6</th>\n",
              "      <td>100263-2-0-161.wav</td>\n",
              "      <td>100263</td>\n",
              "      <td>80.500000</td>\n",
              "      <td>84.500000</td>\n",
              "      <td>1</td>\n",
              "      <td>5</td>\n",
              "      <td>2</td>\n",
              "      <td>children_playing</td>\n",
              "    </tr>\n",
              "    <tr>\n",
              "      <th>7</th>\n",
              "      <td>100263-2-0-3.wav</td>\n",
              "      <td>100263</td>\n",
              "      <td>1.500000</td>\n",
              "      <td>5.500000</td>\n",
              "      <td>1</td>\n",
              "      <td>5</td>\n",
              "      <td>2</td>\n",
              "      <td>children_playing</td>\n",
              "    </tr>\n",
              "    <tr>\n",
              "      <th>8</th>\n",
              "      <td>100263-2-0-36.wav</td>\n",
              "      <td>100263</td>\n",
              "      <td>18.000000</td>\n",
              "      <td>22.000000</td>\n",
              "      <td>1</td>\n",
              "      <td>5</td>\n",
              "      <td>2</td>\n",
              "      <td>children_playing</td>\n",
              "    </tr>\n",
              "    <tr>\n",
              "      <th>9</th>\n",
              "      <td>100648-1-0-0.wav</td>\n",
              "      <td>100648</td>\n",
              "      <td>4.823402</td>\n",
              "      <td>5.471927</td>\n",
              "      <td>2</td>\n",
              "      <td>10</td>\n",
              "      <td>1</td>\n",
              "      <td>car_horn</td>\n",
              "    </tr>\n",
              "  </tbody>\n",
              "</table>\n",
              "</div>\n",
              "      <button class=\"colab-df-convert\" onclick=\"convertToInteractive('df-6e417f4b-9aa5-4297-b203-c8823c79d50e')\"\n",
              "              title=\"Convert this dataframe to an interactive table.\"\n",
              "              style=\"display:none;\">\n",
              "        \n",
              "  <svg xmlns=\"http://www.w3.org/2000/svg\" height=\"24px\"viewBox=\"0 0 24 24\"\n",
              "       width=\"24px\">\n",
              "    <path d=\"M0 0h24v24H0V0z\" fill=\"none\"/>\n",
              "    <path d=\"M18.56 5.44l.94 2.06.94-2.06 2.06-.94-2.06-.94-.94-2.06-.94 2.06-2.06.94zm-11 1L8.5 8.5l.94-2.06 2.06-.94-2.06-.94L8.5 2.5l-.94 2.06-2.06.94zm10 10l.94 2.06.94-2.06 2.06-.94-2.06-.94-.94-2.06-.94 2.06-2.06.94z\"/><path d=\"M17.41 7.96l-1.37-1.37c-.4-.4-.92-.59-1.43-.59-.52 0-1.04.2-1.43.59L10.3 9.45l-7.72 7.72c-.78.78-.78 2.05 0 2.83L4 21.41c.39.39.9.59 1.41.59.51 0 1.02-.2 1.41-.59l7.78-7.78 2.81-2.81c.8-.78.8-2.07 0-2.86zM5.41 20L4 18.59l7.72-7.72 1.47 1.35L5.41 20z\"/>\n",
              "  </svg>\n",
              "      </button>\n",
              "      \n",
              "  <style>\n",
              "    .colab-df-container {\n",
              "      display:flex;\n",
              "      flex-wrap:wrap;\n",
              "      gap: 12px;\n",
              "    }\n",
              "\n",
              "    .colab-df-convert {\n",
              "      background-color: #E8F0FE;\n",
              "      border: none;\n",
              "      border-radius: 50%;\n",
              "      cursor: pointer;\n",
              "      display: none;\n",
              "      fill: #1967D2;\n",
              "      height: 32px;\n",
              "      padding: 0 0 0 0;\n",
              "      width: 32px;\n",
              "    }\n",
              "\n",
              "    .colab-df-convert:hover {\n",
              "      background-color: #E2EBFA;\n",
              "      box-shadow: 0px 1px 2px rgba(60, 64, 67, 0.3), 0px 1px 3px 1px rgba(60, 64, 67, 0.15);\n",
              "      fill: #174EA6;\n",
              "    }\n",
              "\n",
              "    [theme=dark] .colab-df-convert {\n",
              "      background-color: #3B4455;\n",
              "      fill: #D2E3FC;\n",
              "    }\n",
              "\n",
              "    [theme=dark] .colab-df-convert:hover {\n",
              "      background-color: #434B5C;\n",
              "      box-shadow: 0px 1px 3px 1px rgba(0, 0, 0, 0.15);\n",
              "      filter: drop-shadow(0px 1px 2px rgba(0, 0, 0, 0.3));\n",
              "      fill: #FFFFFF;\n",
              "    }\n",
              "  </style>\n",
              "\n",
              "      <script>\n",
              "        const buttonEl =\n",
              "          document.querySelector('#df-6e417f4b-9aa5-4297-b203-c8823c79d50e button.colab-df-convert');\n",
              "        buttonEl.style.display =\n",
              "          google.colab.kernel.accessAllowed ? 'block' : 'none';\n",
              "\n",
              "        async function convertToInteractive(key) {\n",
              "          const element = document.querySelector('#df-6e417f4b-9aa5-4297-b203-c8823c79d50e');\n",
              "          const dataTable =\n",
              "            await google.colab.kernel.invokeFunction('convertToInteractive',\n",
              "                                                     [key], {});\n",
              "          if (!dataTable) return;\n",
              "\n",
              "          const docLinkHtml = 'Like what you see? Visit the ' +\n",
              "            '<a target=\"_blank\" href=https://colab.research.google.com/notebooks/data_table.ipynb>data table notebook</a>'\n",
              "            + ' to learn more about interactive tables.';\n",
              "          element.innerHTML = '';\n",
              "          dataTable['output_type'] = 'display_data';\n",
              "          await google.colab.output.renderOutput(dataTable, element);\n",
              "          const docLink = document.createElement('div');\n",
              "          docLink.innerHTML = docLinkHtml;\n",
              "          element.appendChild(docLink);\n",
              "        }\n",
              "      </script>\n",
              "    </div>\n",
              "  </div>\n",
              "  "
            ]
          },
          "metadata": {},
          "execution_count": 8
        }
      ],
      "source": [
        "#Importing Meta-data\n",
        "audio_dataset_path = 'UrbanSound8K/audio'\n",
        "metadata = pd.read_csv('UrbanSound8K/metadata/UrbanSound8K.csv')\n",
        "metadata.head(10)"
      ]
    },
    {
      "cell_type": "code",
      "execution_count": null,
      "metadata": {
        "id": "FYHuvFTCYdCA"
      },
      "outputs": [],
      "source": [
        "#Extracting Features using MFCC\n",
        "def features_extractor(file_name):\n",
        "    audio, sample_rate = librosa.load(file_name, res_type='kaiser_fast') \n",
        "    mfccs_features = librosa.feature.mfcc(y=audio, sr=sample_rate, n_mfcc=40)\n",
        "    mfccs_scaled_features = np.mean(mfccs_features.T,axis=0)\n",
        "    \n",
        "    return mfccs_scaled_features"
      ]
    },
    {
      "cell_type": "code",
      "execution_count": null,
      "metadata": {
        "colab": {
          "base_uri": "https://localhost:8080/"
        },
        "id": "b_jTz19wZKym",
        "outputId": "dabd352b-0dfa-47f6-fd3d-af53b9db0032"
      },
      "outputs": [
        {
          "output_type": "stream",
          "name": "stderr",
          "text": [
            "3555it [05:58, 10.34it/s]/usr/local/lib/python3.7/dist-packages/librosa/core/spectrum.py:224: UserWarning: n_fft=2048 is too small for input signal of length=1323\n",
            "  n_fft, y.shape[-1]\n",
            "8325it [13:19, 16.75it/s]/usr/local/lib/python3.7/dist-packages/librosa/core/spectrum.py:224: UserWarning: n_fft=2048 is too small for input signal of length=1103\n",
            "  n_fft, y.shape[-1]\n",
            "/usr/local/lib/python3.7/dist-packages/librosa/core/spectrum.py:224: UserWarning: n_fft=2048 is too small for input signal of length=1523\n",
            "  n_fft, y.shape[-1]\n",
            "8732it [14:00, 10.39it/s]\n"
          ]
        }
      ],
      "source": [
        "extracted_features=[]\n",
        "\n",
        "for index_num,row in tqdm(metadata.iterrows()):\n",
        "    file_name = os.path.join(os.path.abspath(audio_dataset_path),'fold'+str(row[\"fold\"])+'/',str(row[\"slice_file_name\"]))\n",
        "    final_class_labels=row[\"class\"]r\n",
        "    data=features_extractor(file_name)\n",
        "    extracted_features.append([data,final_class_labels])\n"
      ]
    },
    {
      "cell_type": "code",
      "execution_count": null,
      "metadata": {
        "id": "RMVyi3urctqa",
        "colab": {
          "base_uri": "https://localhost:8080/",
          "height": 206
        },
        "outputId": "7c71d31b-20fe-42a7-8b16-b5e1f79a1171"
      },
      "outputs": [
        {
          "output_type": "execute_result",
          "data": {
            "text/plain": [
              "                                            features           classes\n",
              "0  [-214.95764, 70.502464, -130.70279, -53.116936...          dog_bark\n",
              "1  [-423.7311, 109.2299, -52.872597, 60.827538, 0...  children_playing\n",
              "2  [-458.52844, 121.35432, -46.535675, 51.969467,...  children_playing\n",
              "3  [-413.63254, 101.61351, -35.43868, 53.047146, ...  children_playing\n",
              "4  [-446.38693, 113.68634, -52.4572, 60.349724, 2...  children_playing"
            ],
            "text/html": [
              "\n",
              "  <div id=\"df-2a769032-a545-4979-9914-6f666d9defc2\">\n",
              "    <div class=\"colab-df-container\">\n",
              "      <div>\n",
              "<style scoped>\n",
              "    .dataframe tbody tr th:only-of-type {\n",
              "        vertical-align: middle;\n",
              "    }\n",
              "\n",
              "    .dataframe tbody tr th {\n",
              "        vertical-align: top;\n",
              "    }\n",
              "\n",
              "    .dataframe thead th {\n",
              "        text-align: right;\n",
              "    }\n",
              "</style>\n",
              "<table border=\"1\" class=\"dataframe\">\n",
              "  <thead>\n",
              "    <tr style=\"text-align: right;\">\n",
              "      <th></th>\n",
              "      <th>features</th>\n",
              "      <th>classes</th>\n",
              "    </tr>\n",
              "  </thead>\n",
              "  <tbody>\n",
              "    <tr>\n",
              "      <th>0</th>\n",
              "      <td>[-214.95764, 70.502464, -130.70279, -53.116936...</td>\n",
              "      <td>dog_bark</td>\n",
              "    </tr>\n",
              "    <tr>\n",
              "      <th>1</th>\n",
              "      <td>[-423.7311, 109.2299, -52.872597, 60.827538, 0...</td>\n",
              "      <td>children_playing</td>\n",
              "    </tr>\n",
              "    <tr>\n",
              "      <th>2</th>\n",
              "      <td>[-458.52844, 121.35432, -46.535675, 51.969467,...</td>\n",
              "      <td>children_playing</td>\n",
              "    </tr>\n",
              "    <tr>\n",
              "      <th>3</th>\n",
              "      <td>[-413.63254, 101.61351, -35.43868, 53.047146, ...</td>\n",
              "      <td>children_playing</td>\n",
              "    </tr>\n",
              "    <tr>\n",
              "      <th>4</th>\n",
              "      <td>[-446.38693, 113.68634, -52.4572, 60.349724, 2...</td>\n",
              "      <td>children_playing</td>\n",
              "    </tr>\n",
              "  </tbody>\n",
              "</table>\n",
              "</div>\n",
              "      <button class=\"colab-df-convert\" onclick=\"convertToInteractive('df-2a769032-a545-4979-9914-6f666d9defc2')\"\n",
              "              title=\"Convert this dataframe to an interactive table.\"\n",
              "              style=\"display:none;\">\n",
              "        \n",
              "  <svg xmlns=\"http://www.w3.org/2000/svg\" height=\"24px\"viewBox=\"0 0 24 24\"\n",
              "       width=\"24px\">\n",
              "    <path d=\"M0 0h24v24H0V0z\" fill=\"none\"/>\n",
              "    <path d=\"M18.56 5.44l.94 2.06.94-2.06 2.06-.94-2.06-.94-.94-2.06-.94 2.06-2.06.94zm-11 1L8.5 8.5l.94-2.06 2.06-.94-2.06-.94L8.5 2.5l-.94 2.06-2.06.94zm10 10l.94 2.06.94-2.06 2.06-.94-2.06-.94-.94-2.06-.94 2.06-2.06.94z\"/><path d=\"M17.41 7.96l-1.37-1.37c-.4-.4-.92-.59-1.43-.59-.52 0-1.04.2-1.43.59L10.3 9.45l-7.72 7.72c-.78.78-.78 2.05 0 2.83L4 21.41c.39.39.9.59 1.41.59.51 0 1.02-.2 1.41-.59l7.78-7.78 2.81-2.81c.8-.78.8-2.07 0-2.86zM5.41 20L4 18.59l7.72-7.72 1.47 1.35L5.41 20z\"/>\n",
              "  </svg>\n",
              "      </button>\n",
              "      \n",
              "  <style>\n",
              "    .colab-df-container {\n",
              "      display:flex;\n",
              "      flex-wrap:wrap;\n",
              "      gap: 12px;\n",
              "    }\n",
              "\n",
              "    .colab-df-convert {\n",
              "      background-color: #E8F0FE;\n",
              "      border: none;\n",
              "      border-radius: 50%;\n",
              "      cursor: pointer;\n",
              "      display: none;\n",
              "      fill: #1967D2;\n",
              "      height: 32px;\n",
              "      padding: 0 0 0 0;\n",
              "      width: 32px;\n",
              "    }\n",
              "\n",
              "    .colab-df-convert:hover {\n",
              "      background-color: #E2EBFA;\n",
              "      box-shadow: 0px 1px 2px rgba(60, 64, 67, 0.3), 0px 1px 3px 1px rgba(60, 64, 67, 0.15);\n",
              "      fill: #174EA6;\n",
              "    }\n",
              "\n",
              "    [theme=dark] .colab-df-convert {\n",
              "      background-color: #3B4455;\n",
              "      fill: #D2E3FC;\n",
              "    }\n",
              "\n",
              "    [theme=dark] .colab-df-convert:hover {\n",
              "      background-color: #434B5C;\n",
              "      box-shadow: 0px 1px 3px 1px rgba(0, 0, 0, 0.15);\n",
              "      filter: drop-shadow(0px 1px 2px rgba(0, 0, 0, 0.3));\n",
              "      fill: #FFFFFF;\n",
              "    }\n",
              "  </style>\n",
              "\n",
              "      <script>\n",
              "        const buttonEl =\n",
              "          document.querySelector('#df-2a769032-a545-4979-9914-6f666d9defc2 button.colab-df-convert');\n",
              "        buttonEl.style.display =\n",
              "          google.colab.kernel.accessAllowed ? 'block' : 'none';\n",
              "\n",
              "        async function convertToInteractive(key) {\n",
              "          const element = document.querySelector('#df-2a769032-a545-4979-9914-6f666d9defc2');\n",
              "          const dataTable =\n",
              "            await google.colab.kernel.invokeFunction('convertToInteractive',\n",
              "                                                     [key], {});\n",
              "          if (!dataTable) return;\n",
              "\n",
              "          const docLinkHtml = 'Like what you see? Visit the ' +\n",
              "            '<a target=\"_blank\" href=https://colab.research.google.com/notebooks/data_table.ipynb>data table notebook</a>'\n",
              "            + ' to learn more about interactive tables.';\n",
              "          element.innerHTML = '';\n",
              "          dataTable['output_type'] = 'display_data';\n",
              "          await google.colab.output.renderOutput(dataTable, element);\n",
              "          const docLink = document.createElement('div');\n",
              "          docLink.innerHTML = docLinkHtml;\n",
              "          element.appendChild(docLink);\n",
              "        }\n",
              "      </script>\n",
              "    </div>\n",
              "  </div>\n",
              "  "
            ]
          },
          "metadata": {},
          "execution_count": 13
        }
      ],
      "source": [
        "#Generating DataFrame\n",
        "extracted_features_df=pd.DataFrame(extracted_features,columns=['features','classes'])\n",
        "extracted_features_df.head()\n"
      ]
    },
    {
      "cell_type": "code",
      "execution_count": null,
      "metadata": {
        "id": "thnH-mebc5oN"
      },
      "outputs": [],
      "source": [
        "#Spliting Labeled and Features\n",
        "x=np.array(extracted_features_df['features'].tolist())\n",
        "y=np.array(extracted_features_df['classes'].tolist())\n"
      ]
    },
    {
      "cell_type": "code",
      "execution_count": null,
      "metadata": {
        "id": "2OY4Ak96c9cH",
        "colab": {
          "base_uri": "https://localhost:8080/"
        },
        "outputId": "a2cf7f76-8f41-4b8f-ef2f-e68155571efe"
      },
      "outputs": [
        {
          "output_type": "execute_result",
          "data": {
            "text/plain": [
              "array([[0, 0, 0, ..., 0, 0, 0],\n",
              "       [0, 0, 1, ..., 0, 0, 0],\n",
              "       [0, 0, 1, ..., 0, 0, 0],\n",
              "       ...,\n",
              "       [0, 1, 0, ..., 0, 0, 0],\n",
              "       [0, 1, 0, ..., 0, 0, 0],\n",
              "       [0, 1, 0, ..., 0, 0, 0]], dtype=uint8)"
            ]
          },
          "metadata": {},
          "execution_count": 15
        }
      ],
      "source": [
        "y=np.array(pd.get_dummies(y))\n",
        "y"
      ]
    },
    {
      "cell_type": "code",
      "execution_count": null,
      "metadata": {
        "id": "-WpySUu8ee5i"
      },
      "outputs": [],
      "source": [
        "#Spliting Dataset into Train and Test set\n",
        "from sklearn.model_selection import train_test_split\n",
        "x_train,x_test,y_train,y_test=train_test_split(x,y,test_size=0.2,random_state=0)"
      ]
    },
    {
      "cell_type": "code",
      "execution_count": null,
      "metadata": {
        "id": "5j2yUm_bfGzy"
      },
      "outputs": [],
      "source": [
        "from tensorflow.keras.models import Sequential\n",
        "from tensorflow.keras.layers import Dense, Dropout, Activation, Flatten\n",
        "from tensorflow.keras.optimizers import Adam\n",
        "from sklearn import metrics"
      ]
    },
    {
      "cell_type": "code",
      "execution_count": null,
      "metadata": {
        "id": "KAkVf_5Rg0yh"
      },
      "outputs": [],
      "source": [
        "#Defining Model\n",
        "model = Sequential()\n",
        "\n",
        "model.add(Dense(40,input_shape=(40,)))\n",
        "model.add(Activation('relu'))\n",
        "#model.add(Dropout(0.5))\n",
        "\n",
        "model.add(Dense(30))\n",
        "model.add(Activation('relu'))\n",
        "#model.add(Dropout(0.5))\n",
        "\n",
        "model.add(Dense(20))\n",
        "model.add(Activation('relu'))\n",
        "#model.add(Dropout(0.5))\n",
        "\n",
        "model.add(Dense(10))\n",
        "model.add(Activation('softmax'))"
      ]
    },
    {
      "cell_type": "code",
      "execution_count": null,
      "metadata": {
        "id": "1C16SCMjii4o",
        "colab": {
          "base_uri": "https://localhost:8080/"
        },
        "outputId": "8efa4d60-0dbe-46bf-9eea-d2ef8ed0008b"
      },
      "outputs": [
        {
          "output_type": "stream",
          "name": "stdout",
          "text": [
            "Model: \"sequential\"\n",
            "_________________________________________________________________\n",
            " Layer (type)                Output Shape              Param #   \n",
            "=================================================================\n",
            " dense (Dense)               (None, 40)                1640      \n",
            "                                                                 \n",
            " activation (Activation)     (None, 40)                0         \n",
            "                                                                 \n",
            " dense_1 (Dense)             (None, 30)                1230      \n",
            "                                                                 \n",
            " activation_1 (Activation)   (None, 30)                0         \n",
            "                                                                 \n",
            " dense_2 (Dense)             (None, 20)                620       \n",
            "                                                                 \n",
            " activation_2 (Activation)   (None, 20)                0         \n",
            "                                                                 \n",
            " dense_3 (Dense)             (None, 10)                210       \n",
            "                                                                 \n",
            " activation_3 (Activation)   (None, 10)                0         \n",
            "                                                                 \n",
            "=================================================================\n",
            "Total params: 3,700\n",
            "Trainable params: 3,700\n",
            "Non-trainable params: 0\n",
            "_________________________________________________________________\n"
          ]
        }
      ],
      "source": [
        "model.summary()"
      ]
    },
    {
      "cell_type": "code",
      "execution_count": null,
      "metadata": {
        "id": "mQeMaBCxiqZL"
      },
      "outputs": [],
      "source": [
        "model.compile(loss='categorical_crossentropy',metrics=['accuracy'],optimizer='adam')"
      ]
    },
    {
      "cell_type": "code",
      "execution_count": null,
      "metadata": {
        "id": "6LMxcRpEjKIr",
        "colab": {
          "base_uri": "https://localhost:8080/"
        },
        "outputId": "2393275c-d12a-44ad-bf95-c95f0e3c242e"
      },
      "outputs": [
        {
          "output_type": "stream",
          "name": "stdout",
          "text": [
            "Epoch 1/100\n",
            "210/219 [===========================>..] - ETA: 0s - loss: 3.3916 - accuracy: 0.2362\n",
            "Epoch 1: val_loss improved from inf to 1.89819, saving model to model/audio_classification.hdf5\n",
            "219/219 [==============================] - 2s 4ms/step - loss: 3.3389 - accuracy: 0.2401 - val_loss: 1.8982 - val_accuracy: 0.3480\n",
            "Epoch 2/100\n",
            "210/219 [===========================>..] - ETA: 0s - loss: 1.7198 - accuracy: 0.4043\n",
            "Epoch 2: val_loss improved from 1.89819 to 1.61547, saving model to model/audio_classification.hdf5\n",
            "219/219 [==============================] - 1s 3ms/step - loss: 1.7124 - accuracy: 0.4070 - val_loss: 1.6155 - val_accuracy: 0.4654\n",
            "Epoch 3/100\n",
            "218/219 [============================>.] - ETA: 0s - loss: 1.4732 - accuracy: 0.5027\n",
            "Epoch 3: val_loss improved from 1.61547 to 1.41652, saving model to model/audio_classification.hdf5\n",
            "219/219 [==============================] - 1s 3ms/step - loss: 1.4737 - accuracy: 0.5028 - val_loss: 1.4165 - val_accuracy: 0.5392\n",
            "Epoch 4/100\n",
            "213/219 [============================>.] - ETA: 0s - loss: 1.3275 - accuracy: 0.5613\n",
            "Epoch 4: val_loss improved from 1.41652 to 1.33865, saving model to model/audio_classification.hdf5\n",
            "219/219 [==============================] - 1s 3ms/step - loss: 1.3275 - accuracy: 0.5618 - val_loss: 1.3387 - val_accuracy: 0.5661\n",
            "Epoch 5/100\n",
            "215/219 [============================>.] - ETA: 0s - loss: 1.2228 - accuracy: 0.5939\n",
            "Epoch 5: val_loss improved from 1.33865 to 1.25581, saving model to model/audio_classification.hdf5\n",
            "219/219 [==============================] - 1s 3ms/step - loss: 1.2219 - accuracy: 0.5941 - val_loss: 1.2558 - val_accuracy: 0.5856\n",
            "Epoch 6/100\n",
            "215/219 [============================>.] - ETA: 0s - loss: 1.1430 - accuracy: 0.6233\n",
            "Epoch 6: val_loss improved from 1.25581 to 1.17569, saving model to model/audio_classification.hdf5\n",
            "219/219 [==============================] - 1s 3ms/step - loss: 1.1427 - accuracy: 0.6242 - val_loss: 1.1757 - val_accuracy: 0.6262\n",
            "Epoch 7/100\n",
            "209/219 [===========================>..] - ETA: 0s - loss: 1.0858 - accuracy: 0.6374\n",
            "Epoch 7: val_loss improved from 1.17569 to 1.15472, saving model to model/audio_classification.hdf5\n",
            "219/219 [==============================] - 1s 3ms/step - loss: 1.0853 - accuracy: 0.6374 - val_loss: 1.1547 - val_accuracy: 0.6359\n",
            "Epoch 8/100\n",
            "201/219 [==========================>...] - ETA: 0s - loss: 1.0462 - accuracy: 0.6527\n",
            "Epoch 8: val_loss improved from 1.15472 to 1.10615, saving model to model/audio_classification.hdf5\n",
            "219/219 [==============================] - 1s 3ms/step - loss: 1.0405 - accuracy: 0.6538 - val_loss: 1.1061 - val_accuracy: 0.6514\n",
            "Epoch 9/100\n",
            "211/219 [===========================>..] - ETA: 0s - loss: 0.9896 - accuracy: 0.6714\n",
            "Epoch 9: val_loss improved from 1.10615 to 1.08610, saving model to model/audio_classification.hdf5\n",
            "219/219 [==============================] - 1s 3ms/step - loss: 0.9940 - accuracy: 0.6700 - val_loss: 1.0861 - val_accuracy: 0.6463\n",
            "Epoch 10/100\n",
            "205/219 [===========================>..] - ETA: 0s - loss: 0.9588 - accuracy: 0.6796\n",
            "Epoch 10: val_loss improved from 1.08610 to 1.03819, saving model to model/audio_classification.hdf5\n",
            "219/219 [==============================] - 1s 3ms/step - loss: 0.9582 - accuracy: 0.6800 - val_loss: 1.0382 - val_accuracy: 0.6766\n",
            "Epoch 11/100\n",
            "215/219 [============================>.] - ETA: 0s - loss: 0.9156 - accuracy: 0.6987\n",
            "Epoch 11: val_loss improved from 1.03819 to 1.03353, saving model to model/audio_classification.hdf5\n",
            "219/219 [==============================] - 1s 3ms/step - loss: 0.9154 - accuracy: 0.6988 - val_loss: 1.0335 - val_accuracy: 0.6760\n",
            "Epoch 12/100\n",
            "210/219 [===========================>..] - ETA: 0s - loss: 0.8791 - accuracy: 0.7155\n",
            "Epoch 12: val_loss improved from 1.03353 to 1.03241, saving model to model/audio_classification.hdf5\n",
            "219/219 [==============================] - 1s 3ms/step - loss: 0.8842 - accuracy: 0.7138 - val_loss: 1.0324 - val_accuracy: 0.6823\n",
            "Epoch 13/100\n",
            "218/219 [============================>.] - ETA: 0s - loss: 0.8585 - accuracy: 0.7186\n",
            "Epoch 13: val_loss improved from 1.03241 to 0.95755, saving model to model/audio_classification.hdf5\n",
            "219/219 [==============================] - 1s 3ms/step - loss: 0.8585 - accuracy: 0.7187 - val_loss: 0.9575 - val_accuracy: 0.7001\n",
            "Epoch 14/100\n",
            "199/219 [==========================>...] - ETA: 0s - loss: 0.8223 - accuracy: 0.7304\n",
            "Epoch 14: val_loss did not improve from 0.95755\n",
            "219/219 [==============================] - 1s 3ms/step - loss: 0.8272 - accuracy: 0.7281 - val_loss: 1.0009 - val_accuracy: 0.6709\n",
            "Epoch 15/100\n",
            "217/219 [============================>.] - ETA: 0s - loss: 0.8013 - accuracy: 0.7388\n",
            "Epoch 15: val_loss did not improve from 0.95755\n",
            "219/219 [==============================] - 1s 4ms/step - loss: 0.8014 - accuracy: 0.7392 - val_loss: 0.9907 - val_accuracy: 0.6823\n",
            "Epoch 16/100\n",
            "218/219 [============================>.] - ETA: 0s - loss: 0.7819 - accuracy: 0.7425\n",
            "Epoch 16: val_loss improved from 0.95755 to 0.88833, saving model to model/audio_classification.hdf5\n",
            "219/219 [==============================] - 1s 3ms/step - loss: 0.7810 - accuracy: 0.7429 - val_loss: 0.8883 - val_accuracy: 0.7235\n",
            "Epoch 17/100\n",
            "218/219 [============================>.] - ETA: 0s - loss: 0.7534 - accuracy: 0.7524\n",
            "Epoch 17: val_loss did not improve from 0.88833\n",
            "219/219 [==============================] - 1s 3ms/step - loss: 0.7540 - accuracy: 0.7523 - val_loss: 0.9517 - val_accuracy: 0.6920\n",
            "Epoch 18/100\n",
            "210/219 [===========================>..] - ETA: 0s - loss: 0.7287 - accuracy: 0.7586\n",
            "Epoch 18: val_loss did not improve from 0.88833\n",
            "219/219 [==============================] - 1s 3ms/step - loss: 0.7292 - accuracy: 0.7591 - val_loss: 0.9199 - val_accuracy: 0.7064\n",
            "Epoch 19/100\n",
            "213/219 [============================>.] - ETA: 0s - loss: 0.7177 - accuracy: 0.7578\n",
            "Epoch 19: val_loss improved from 0.88833 to 0.86589, saving model to model/audio_classification.hdf5\n",
            "219/219 [==============================] - 1s 3ms/step - loss: 0.7202 - accuracy: 0.7573 - val_loss: 0.8659 - val_accuracy: 0.7275\n",
            "Epoch 20/100\n",
            "218/219 [============================>.] - ETA: 0s - loss: 0.6968 - accuracy: 0.7737\n",
            "Epoch 20: val_loss did not improve from 0.86589\n",
            "219/219 [==============================] - 1s 3ms/step - loss: 0.6969 - accuracy: 0.7735 - val_loss: 0.8903 - val_accuracy: 0.7218\n",
            "Epoch 21/100\n",
            "206/219 [===========================>..] - ETA: 0s - loss: 0.6702 - accuracy: 0.7784\n",
            "Epoch 21: val_loss did not improve from 0.86589\n",
            "219/219 [==============================] - 1s 2ms/step - loss: 0.6744 - accuracy: 0.7752 - val_loss: 0.8696 - val_accuracy: 0.7264\n",
            "Epoch 22/100\n",
            "198/219 [==========================>...] - ETA: 0s - loss: 0.6545 - accuracy: 0.7816\n",
            "Epoch 22: val_loss improved from 0.86589 to 0.83005, saving model to model/audio_classification.hdf5\n",
            "219/219 [==============================] - 1s 3ms/step - loss: 0.6595 - accuracy: 0.7800 - val_loss: 0.8300 - val_accuracy: 0.7459\n",
            "Epoch 23/100\n",
            "210/219 [===========================>..] - ETA: 0s - loss: 0.6422 - accuracy: 0.7893\n",
            "Epoch 23: val_loss did not improve from 0.83005\n",
            "219/219 [==============================] - 1s 3ms/step - loss: 0.6413 - accuracy: 0.7891 - val_loss: 0.8305 - val_accuracy: 0.7470\n",
            "Epoch 24/100\n",
            "195/219 [=========================>....] - ETA: 0s - loss: 0.6375 - accuracy: 0.7901\n",
            "Epoch 24: val_loss did not improve from 0.83005\n",
            "219/219 [==============================] - 1s 2ms/step - loss: 0.6364 - accuracy: 0.7908 - val_loss: 0.8378 - val_accuracy: 0.7481\n",
            "Epoch 25/100\n",
            "212/219 [============================>.] - ETA: 0s - loss: 0.6113 - accuracy: 0.7986\n",
            "Epoch 25: val_loss improved from 0.83005 to 0.80067, saving model to model/audio_classification.hdf5\n",
            "219/219 [==============================] - 1s 3ms/step - loss: 0.6145 - accuracy: 0.7971 - val_loss: 0.8007 - val_accuracy: 0.7562\n",
            "Epoch 26/100\n",
            "215/219 [============================>.] - ETA: 0s - loss: 0.6063 - accuracy: 0.7985\n",
            "Epoch 26: val_loss did not improve from 0.80067\n",
            "219/219 [==============================] - 1s 3ms/step - loss: 0.6050 - accuracy: 0.7987 - val_loss: 0.8589 - val_accuracy: 0.7310\n",
            "Epoch 27/100\n",
            "193/219 [=========================>....] - ETA: 0s - loss: 0.5824 - accuracy: 0.8104\n",
            "Epoch 27: val_loss did not improve from 0.80067\n",
            "219/219 [==============================] - 1s 2ms/step - loss: 0.5873 - accuracy: 0.8087 - val_loss: 0.8156 - val_accuracy: 0.7670\n",
            "Epoch 28/100\n",
            "205/219 [===========================>..] - ETA: 0s - loss: 0.5920 - accuracy: 0.7994\n",
            "Epoch 28: val_loss did not improve from 0.80067\n",
            "219/219 [==============================] - 1s 2ms/step - loss: 0.5905 - accuracy: 0.7999 - val_loss: 0.8118 - val_accuracy: 0.7493\n",
            "Epoch 29/100\n",
            "199/219 [==========================>...] - ETA: 0s - loss: 0.5829 - accuracy: 0.8037\n",
            "Epoch 29: val_loss improved from 0.80067 to 0.79255, saving model to model/audio_classification.hdf5\n",
            "219/219 [==============================] - 1s 3ms/step - loss: 0.5750 - accuracy: 0.8064 - val_loss: 0.7925 - val_accuracy: 0.7722\n",
            "Epoch 30/100\n",
            "205/219 [===========================>..] - ETA: 0s - loss: 0.5577 - accuracy: 0.8166\n",
            "Epoch 30: val_loss did not improve from 0.79255\n",
            "219/219 [==============================] - 1s 3ms/step - loss: 0.5556 - accuracy: 0.8169 - val_loss: 0.8453 - val_accuracy: 0.7390\n",
            "Epoch 31/100\n",
            "197/219 [=========================>....] - ETA: 0s - loss: 0.5494 - accuracy: 0.8181\n",
            "Epoch 31: val_loss did not improve from 0.79255\n",
            "219/219 [==============================] - 1s 2ms/step - loss: 0.5536 - accuracy: 0.8170 - val_loss: 0.8225 - val_accuracy: 0.7544\n",
            "Epoch 32/100\n",
            "218/219 [============================>.] - ETA: 0s - loss: 0.5375 - accuracy: 0.8253\n",
            "Epoch 32: val_loss did not improve from 0.79255\n",
            "219/219 [==============================] - 1s 3ms/step - loss: 0.5378 - accuracy: 0.8252 - val_loss: 0.8485 - val_accuracy: 0.7481\n",
            "Epoch 33/100\n",
            "209/219 [===========================>..] - ETA: 0s - loss: 0.5390 - accuracy: 0.8213\n",
            "Epoch 33: val_loss did not improve from 0.79255\n",
            "219/219 [==============================] - 1s 3ms/step - loss: 0.5407 - accuracy: 0.8205 - val_loss: 0.7940 - val_accuracy: 0.7693\n",
            "Epoch 34/100\n",
            "200/219 [==========================>...] - ETA: 0s - loss: 0.5280 - accuracy: 0.8239\n",
            "Epoch 34: val_loss improved from 0.79255 to 0.76261, saving model to model/audio_classification.hdf5\n",
            "219/219 [==============================] - 1s 3ms/step - loss: 0.5286 - accuracy: 0.8230 - val_loss: 0.7626 - val_accuracy: 0.7699\n",
            "Epoch 35/100\n",
            "199/219 [==========================>...] - ETA: 0s - loss: 0.5074 - accuracy: 0.8306\n",
            "Epoch 35: val_loss did not improve from 0.76261\n",
            "219/219 [==============================] - 1s 2ms/step - loss: 0.5128 - accuracy: 0.8279 - val_loss: 0.8131 - val_accuracy: 0.7527\n",
            "Epoch 36/100\n",
            "218/219 [============================>.] - ETA: 0s - loss: 0.5075 - accuracy: 0.8346\n",
            "Epoch 36: val_loss did not improve from 0.76261\n",
            "219/219 [==============================] - 1s 3ms/step - loss: 0.5075 - accuracy: 0.8345 - val_loss: 0.8066 - val_accuracy: 0.7705\n",
            "Epoch 37/100\n",
            "204/219 [==========================>...] - ETA: 0s - loss: 0.5009 - accuracy: 0.8370\n",
            "Epoch 37: val_loss did not improve from 0.76261\n",
            "219/219 [==============================] - 1s 3ms/step - loss: 0.4992 - accuracy: 0.8368 - val_loss: 0.7660 - val_accuracy: 0.7813\n",
            "Epoch 38/100\n",
            "217/219 [============================>.] - ETA: 0s - loss: 0.4944 - accuracy: 0.8360\n",
            "Epoch 38: val_loss did not improve from 0.76261\n",
            "219/219 [==============================] - 1s 3ms/step - loss: 0.4945 - accuracy: 0.8361 - val_loss: 0.7719 - val_accuracy: 0.7768\n",
            "Epoch 39/100\n",
            "218/219 [============================>.] - ETA: 0s - loss: 0.4775 - accuracy: 0.8405\n",
            "Epoch 39: val_loss did not improve from 0.76261\n",
            "219/219 [==============================] - 1s 3ms/step - loss: 0.4776 - accuracy: 0.8404 - val_loss: 0.7701 - val_accuracy: 0.7693\n",
            "Epoch 40/100\n",
            "207/219 [===========================>..] - ETA: 0s - loss: 0.4787 - accuracy: 0.8416\n",
            "Epoch 40: val_loss did not improve from 0.76261\n",
            "219/219 [==============================] - 1s 3ms/step - loss: 0.4824 - accuracy: 0.8402 - val_loss: 0.8124 - val_accuracy: 0.7659\n",
            "Epoch 41/100\n",
            "212/219 [============================>.] - ETA: 0s - loss: 0.4686 - accuracy: 0.8430\n",
            "Epoch 41: val_loss did not improve from 0.76261\n",
            "219/219 [==============================] - 1s 3ms/step - loss: 0.4696 - accuracy: 0.8421 - val_loss: 0.8227 - val_accuracy: 0.7584\n",
            "Epoch 42/100\n",
            "218/219 [============================>.] - ETA: 0s - loss: 0.4718 - accuracy: 0.8406\n",
            "Epoch 42: val_loss did not improve from 0.76261\n",
            "219/219 [==============================] - 1s 3ms/step - loss: 0.4713 - accuracy: 0.8408 - val_loss: 0.7902 - val_accuracy: 0.7733\n",
            "Epoch 43/100\n",
            "213/219 [============================>.] - ETA: 0s - loss: 0.4548 - accuracy: 0.8509\n",
            "Epoch 43: val_loss did not improve from 0.76261\n",
            "219/219 [==============================] - 1s 3ms/step - loss: 0.4543 - accuracy: 0.8507 - val_loss: 0.7790 - val_accuracy: 0.7808\n",
            "Epoch 44/100\n",
            "211/219 [===========================>..] - ETA: 0s - loss: 0.4475 - accuracy: 0.8486\n",
            "Epoch 44: val_loss did not improve from 0.76261\n",
            "219/219 [==============================] - 1s 3ms/step - loss: 0.4508 - accuracy: 0.8474 - val_loss: 0.7643 - val_accuracy: 0.7836\n",
            "Epoch 45/100\n",
            "203/219 [==========================>...] - ETA: 0s - loss: 0.4421 - accuracy: 0.8493\n",
            "Epoch 45: val_loss did not improve from 0.76261\n",
            "219/219 [==============================] - 1s 3ms/step - loss: 0.4434 - accuracy: 0.8482 - val_loss: 0.8663 - val_accuracy: 0.7521\n",
            "Epoch 46/100\n",
            "215/219 [============================>.] - ETA: 0s - loss: 0.4331 - accuracy: 0.8578\n",
            "Epoch 46: val_loss did not improve from 0.76261\n",
            "219/219 [==============================] - 1s 3ms/step - loss: 0.4321 - accuracy: 0.8578 - val_loss: 0.7844 - val_accuracy: 0.7768\n",
            "Epoch 47/100\n",
            "218/219 [============================>.] - ETA: 0s - loss: 0.4479 - accuracy: 0.8453\n",
            "Epoch 47: val_loss improved from 0.76261 to 0.74297, saving model to model/audio_classification.hdf5\n",
            "219/219 [==============================] - 1s 3ms/step - loss: 0.4481 - accuracy: 0.8454 - val_loss: 0.7430 - val_accuracy: 0.7911\n",
            "Epoch 48/100\n",
            "211/219 [===========================>..] - ETA: 0s - loss: 0.4243 - accuracy: 0.8593\n",
            "Epoch 48: val_loss improved from 0.74297 to 0.74244, saving model to model/audio_classification.hdf5\n",
            "219/219 [==============================] - 1s 3ms/step - loss: 0.4238 - accuracy: 0.8593 - val_loss: 0.7424 - val_accuracy: 0.7968\n",
            "Epoch 49/100\n",
            "216/219 [============================>.] - ETA: 0s - loss: 0.4238 - accuracy: 0.8565\n",
            "Epoch 49: val_loss did not improve from 0.74244\n",
            "219/219 [==============================] - 1s 3ms/step - loss: 0.4251 - accuracy: 0.8561 - val_loss: 0.7886 - val_accuracy: 0.7733\n",
            "Epoch 50/100\n",
            "198/219 [==========================>...] - ETA: 0s - loss: 0.4248 - accuracy: 0.8561\n",
            "Epoch 50: val_loss did not improve from 0.74244\n",
            "219/219 [==============================] - 1s 2ms/step - loss: 0.4238 - accuracy: 0.8554 - val_loss: 0.7767 - val_accuracy: 0.7768\n",
            "Epoch 51/100\n",
            "214/219 [============================>.] - ETA: 0s - loss: 0.3977 - accuracy: 0.8687\n",
            "Epoch 51: val_loss did not improve from 0.74244\n",
            "219/219 [==============================] - 1s 3ms/step - loss: 0.4019 - accuracy: 0.8674 - val_loss: 0.7549 - val_accuracy: 0.8008\n",
            "Epoch 52/100\n",
            "211/219 [===========================>..] - ETA: 0s - loss: 0.4114 - accuracy: 0.8574\n",
            "Epoch 52: val_loss did not improve from 0.74244\n",
            "219/219 [==============================] - 1s 3ms/step - loss: 0.4146 - accuracy: 0.8578 - val_loss: 0.7552 - val_accuracy: 0.7894\n",
            "Epoch 53/100\n",
            "202/219 [==========================>...] - ETA: 0s - loss: 0.3976 - accuracy: 0.8662\n",
            "Epoch 53: val_loss did not improve from 0.74244\n",
            "219/219 [==============================] - 1s 3ms/step - loss: 0.4004 - accuracy: 0.8644 - val_loss: 0.7827 - val_accuracy: 0.7951\n",
            "Epoch 54/100\n",
            "199/219 [==========================>...] - ETA: 0s - loss: 0.3919 - accuracy: 0.8667\n",
            "Epoch 54: val_loss did not improve from 0.74244\n",
            "219/219 [==============================] - 1s 3ms/step - loss: 0.3894 - accuracy: 0.8664 - val_loss: 0.7671 - val_accuracy: 0.7888\n",
            "Epoch 55/100\n",
            "203/219 [==========================>...] - ETA: 0s - loss: 0.3909 - accuracy: 0.8670\n",
            "Epoch 55: val_loss did not improve from 0.74244\n",
            "219/219 [==============================] - 1s 3ms/step - loss: 0.3873 - accuracy: 0.8669 - val_loss: 0.7743 - val_accuracy: 0.7916\n",
            "Epoch 56/100\n",
            "210/219 [===========================>..] - ETA: 0s - loss: 0.3794 - accuracy: 0.8667\n",
            "Epoch 56: val_loss did not improve from 0.74244\n",
            "219/219 [==============================] - 1s 3ms/step - loss: 0.3788 - accuracy: 0.8666 - val_loss: 0.8140 - val_accuracy: 0.7916\n",
            "Epoch 57/100\n",
            "198/219 [==========================>...] - ETA: 0s - loss: 0.3877 - accuracy: 0.8699\n",
            "Epoch 57: val_loss did not improve from 0.74244\n",
            "219/219 [==============================] - 1s 2ms/step - loss: 0.3854 - accuracy: 0.8696 - val_loss: 0.7872 - val_accuracy: 0.7928\n",
            "Epoch 58/100\n",
            "197/219 [=========================>....] - ETA: 0s - loss: 0.3784 - accuracy: 0.8726\n",
            "Epoch 58: val_loss did not improve from 0.74244\n",
            "219/219 [==============================] - 1s 3ms/step - loss: 0.3816 - accuracy: 0.8707 - val_loss: 0.7780 - val_accuracy: 0.7848\n",
            "Epoch 59/100\n",
            "213/219 [============================>.] - ETA: 0s - loss: 0.3603 - accuracy: 0.8795\n",
            "Epoch 59: val_loss did not improve from 0.74244\n",
            "219/219 [==============================] - 1s 3ms/step - loss: 0.3623 - accuracy: 0.8793 - val_loss: 0.7922 - val_accuracy: 0.7928\n",
            "Epoch 60/100\n",
            "218/219 [============================>.] - ETA: 0s - loss: 0.3728 - accuracy: 0.8739\n",
            "Epoch 60: val_loss did not improve from 0.74244\n",
            "219/219 [==============================] - 1s 3ms/step - loss: 0.3731 - accuracy: 0.8737 - val_loss: 0.8057 - val_accuracy: 0.7916\n",
            "Epoch 61/100\n",
            "208/219 [===========================>..] - ETA: 0s - loss: 0.3548 - accuracy: 0.8806\n",
            "Epoch 61: val_loss did not improve from 0.74244\n",
            "219/219 [==============================] - 1s 3ms/step - loss: 0.3515 - accuracy: 0.8817 - val_loss: 0.7847 - val_accuracy: 0.7928\n",
            "Epoch 62/100\n",
            "219/219 [==============================] - ETA: 0s - loss: 0.3680 - accuracy: 0.8747\n",
            "Epoch 62: val_loss did not improve from 0.74244\n",
            "219/219 [==============================] - 1s 3ms/step - loss: 0.3680 - accuracy: 0.8747 - val_loss: 0.7630 - val_accuracy: 0.8008\n",
            "Epoch 63/100\n",
            "198/219 [==========================>...] - ETA: 0s - loss: 0.3442 - accuracy: 0.8832\n",
            "Epoch 63: val_loss did not improve from 0.74244\n",
            "219/219 [==============================] - 1s 3ms/step - loss: 0.3441 - accuracy: 0.8836 - val_loss: 0.7742 - val_accuracy: 0.8014\n",
            "Epoch 64/100\n",
            "206/219 [===========================>..] - ETA: 0s - loss: 0.3492 - accuracy: 0.8859\n",
            "Epoch 64: val_loss did not improve from 0.74244\n",
            "219/219 [==============================] - 1s 3ms/step - loss: 0.3488 - accuracy: 0.8858 - val_loss: 0.8318 - val_accuracy: 0.7790\n",
            "Epoch 65/100\n",
            "213/219 [============================>.] - ETA: 0s - loss: 0.3416 - accuracy: 0.8882\n",
            "Epoch 65: val_loss did not improve from 0.74244\n",
            "219/219 [==============================] - 1s 3ms/step - loss: 0.3406 - accuracy: 0.8885 - val_loss: 0.8047 - val_accuracy: 0.7979\n",
            "Epoch 66/100\n",
            "197/219 [=========================>....] - ETA: 0s - loss: 0.3333 - accuracy: 0.8866\n",
            "Epoch 66: val_loss did not improve from 0.74244\n",
            "219/219 [==============================] - 1s 3ms/step - loss: 0.3324 - accuracy: 0.8866 - val_loss: 0.8033 - val_accuracy: 0.7848\n",
            "Epoch 67/100\n",
            "214/219 [============================>.] - ETA: 0s - loss: 0.3330 - accuracy: 0.8924\n",
            "Epoch 67: val_loss did not improve from 0.74244\n",
            "219/219 [==============================] - 1s 3ms/step - loss: 0.3336 - accuracy: 0.8923 - val_loss: 0.8053 - val_accuracy: 0.7951\n",
            "Epoch 68/100\n",
            "216/219 [============================>.] - ETA: 0s - loss: 0.3494 - accuracy: 0.8861\n",
            "Epoch 68: val_loss did not improve from 0.74244\n",
            "219/219 [==============================] - 1s 3ms/step - loss: 0.3495 - accuracy: 0.8860 - val_loss: 0.8056 - val_accuracy: 0.7939\n",
            "Epoch 69/100\n",
            "200/219 [==========================>...] - ETA: 0s - loss: 0.3374 - accuracy: 0.8878\n",
            "Epoch 69: val_loss did not improve from 0.74244\n",
            "219/219 [==============================] - 1s 3ms/step - loss: 0.3328 - accuracy: 0.8895 - val_loss: 0.8105 - val_accuracy: 0.7916\n",
            "Epoch 70/100\n",
            "205/219 [===========================>..] - ETA: 0s - loss: 0.3148 - accuracy: 0.8938\n",
            "Epoch 70: val_loss did not improve from 0.74244\n",
            "219/219 [==============================] - 1s 3ms/step - loss: 0.3189 - accuracy: 0.8935 - val_loss: 0.7866 - val_accuracy: 0.8014\n",
            "Epoch 71/100\n",
            "216/219 [============================>.] - ETA: 0s - loss: 0.3249 - accuracy: 0.8905\n",
            "Epoch 71: val_loss did not improve from 0.74244\n",
            "219/219 [==============================] - 1s 3ms/step - loss: 0.3251 - accuracy: 0.8903 - val_loss: 0.8020 - val_accuracy: 0.7939\n",
            "Epoch 72/100\n",
            "201/219 [==========================>...] - ETA: 0s - loss: 0.3270 - accuracy: 0.8884\n",
            "Epoch 72: val_loss did not improve from 0.74244\n",
            "219/219 [==============================] - 1s 3ms/step - loss: 0.3240 - accuracy: 0.8895 - val_loss: 0.7821 - val_accuracy: 0.8019\n",
            "Epoch 73/100\n",
            "195/219 [=========================>....] - ETA: 0s - loss: 0.3174 - accuracy: 0.8942\n",
            "Epoch 73: val_loss did not improve from 0.74244\n",
            "219/219 [==============================] - 1s 3ms/step - loss: 0.3244 - accuracy: 0.8928 - val_loss: 0.7947 - val_accuracy: 0.7939\n",
            "Epoch 74/100\n",
            "196/219 [=========================>....] - ETA: 0s - loss: 0.3190 - accuracy: 0.8929\n",
            "Epoch 74: val_loss did not improve from 0.74244\n",
            "219/219 [==============================] - 1s 3ms/step - loss: 0.3106 - accuracy: 0.8962 - val_loss: 0.7571 - val_accuracy: 0.8111\n",
            "Epoch 75/100\n",
            "211/219 [===========================>..] - ETA: 0s - loss: 0.3055 - accuracy: 0.8975\n",
            "Epoch 75: val_loss did not improve from 0.74244\n",
            "219/219 [==============================] - 1s 3ms/step - loss: 0.3067 - accuracy: 0.8966 - val_loss: 0.7978 - val_accuracy: 0.7968\n",
            "Epoch 76/100\n",
            "206/219 [===========================>..] - ETA: 0s - loss: 0.3185 - accuracy: 0.8902\n",
            "Epoch 76: val_loss did not improve from 0.74244\n",
            "219/219 [==============================] - 1s 3ms/step - loss: 0.3188 - accuracy: 0.8909 - val_loss: 0.7864 - val_accuracy: 0.8037\n",
            "Epoch 77/100\n",
            "211/219 [===========================>..] - ETA: 0s - loss: 0.2909 - accuracy: 0.9033\n",
            "Epoch 77: val_loss did not improve from 0.74244\n",
            "219/219 [==============================] - 1s 3ms/step - loss: 0.2935 - accuracy: 0.9026 - val_loss: 0.8285 - val_accuracy: 0.7956\n",
            "Epoch 78/100\n",
            "210/219 [===========================>..] - ETA: 0s - loss: 0.3164 - accuracy: 0.8920\n",
            "Epoch 78: val_loss did not improve from 0.74244\n",
            "219/219 [==============================] - 1s 3ms/step - loss: 0.3151 - accuracy: 0.8925 - val_loss: 0.8087 - val_accuracy: 0.7962\n",
            "Epoch 79/100\n",
            "202/219 [==========================>...] - ETA: 0s - loss: 0.2994 - accuracy: 0.9013\n",
            "Epoch 79: val_loss did not improve from 0.74244\n",
            "219/219 [==============================] - 1s 3ms/step - loss: 0.3014 - accuracy: 0.9004 - val_loss: 0.7878 - val_accuracy: 0.8048\n",
            "Epoch 80/100\n",
            "203/219 [==========================>...] - ETA: 0s - loss: 0.2954 - accuracy: 0.9013\n",
            "Epoch 80: val_loss did not improve from 0.74244\n",
            "219/219 [==============================] - 1s 3ms/step - loss: 0.2936 - accuracy: 0.9021 - val_loss: 0.8575 - val_accuracy: 0.7945\n",
            "Epoch 81/100\n",
            "202/219 [==========================>...] - ETA: 0s - loss: 0.2861 - accuracy: 0.9033\n",
            "Epoch 81: val_loss did not improve from 0.74244\n",
            "219/219 [==============================] - 1s 3ms/step - loss: 0.2897 - accuracy: 0.9025 - val_loss: 0.8330 - val_accuracy: 0.7899\n",
            "Epoch 82/100\n",
            "208/219 [===========================>..] - ETA: 0s - loss: 0.2811 - accuracy: 0.9047\n",
            "Epoch 82: val_loss did not improve from 0.74244\n",
            "219/219 [==============================] - 1s 3ms/step - loss: 0.2847 - accuracy: 0.9035 - val_loss: 0.8836 - val_accuracy: 0.7882\n",
            "Epoch 83/100\n",
            "207/219 [===========================>..] - ETA: 0s - loss: 0.2929 - accuracy: 0.8992\n",
            "Epoch 83: val_loss did not improve from 0.74244\n",
            "219/219 [==============================] - 1s 3ms/step - loss: 0.2954 - accuracy: 0.8982 - val_loss: 0.8417 - val_accuracy: 0.8025\n",
            "Epoch 84/100\n",
            "208/219 [===========================>..] - ETA: 0s - loss: 0.3024 - accuracy: 0.8963\n",
            "Epoch 84: val_loss did not improve from 0.74244\n",
            "219/219 [==============================] - 1s 3ms/step - loss: 0.3029 - accuracy: 0.8958 - val_loss: 0.8169 - val_accuracy: 0.8088\n",
            "Epoch 85/100\n",
            "213/219 [============================>.] - ETA: 0s - loss: 0.2939 - accuracy: 0.8994\n",
            "Epoch 85: val_loss did not improve from 0.74244\n",
            "219/219 [==============================] - 1s 3ms/step - loss: 0.2934 - accuracy: 0.8995 - val_loss: 0.8346 - val_accuracy: 0.8134\n",
            "Epoch 86/100\n",
            "200/219 [==========================>...] - ETA: 0s - loss: 0.2939 - accuracy: 0.9008\n",
            "Epoch 86: val_loss did not improve from 0.74244\n",
            "219/219 [==============================] - 1s 3ms/step - loss: 0.2933 - accuracy: 0.9006 - val_loss: 0.8195 - val_accuracy: 0.8025\n",
            "Epoch 87/100\n",
            "209/219 [===========================>..] - ETA: 0s - loss: 0.2860 - accuracy: 0.9034\n",
            "Epoch 87: val_loss did not improve from 0.74244\n",
            "219/219 [==============================] - 1s 3ms/step - loss: 0.2857 - accuracy: 0.9032 - val_loss: 0.8494 - val_accuracy: 0.7939\n",
            "Epoch 88/100\n",
            "198/219 [==========================>...] - ETA: 0s - loss: 0.2877 - accuracy: 0.9010\n",
            "Epoch 88: val_loss did not improve from 0.74244\n",
            "219/219 [==============================] - 1s 3ms/step - loss: 0.2843 - accuracy: 0.9029 - val_loss: 0.8658 - val_accuracy: 0.8037\n",
            "Epoch 89/100\n",
            "201/219 [==========================>...] - ETA: 0s - loss: 0.2808 - accuracy: 0.9055\n",
            "Epoch 89: val_loss did not improve from 0.74244\n",
            "219/219 [==============================] - 1s 3ms/step - loss: 0.2804 - accuracy: 0.9061 - val_loss: 0.8157 - val_accuracy: 0.8105\n",
            "Epoch 90/100\n",
            "218/219 [============================>.] - ETA: 0s - loss: 0.2698 - accuracy: 0.9070\n",
            "Epoch 90: val_loss did not improve from 0.74244\n",
            "219/219 [==============================] - 1s 3ms/step - loss: 0.2701 - accuracy: 0.9069 - val_loss: 0.8238 - val_accuracy: 0.8157\n",
            "Epoch 91/100\n",
            "214/219 [============================>.] - ETA: 0s - loss: 0.2673 - accuracy: 0.9117\n",
            "Epoch 91: val_loss did not improve from 0.74244\n",
            "219/219 [==============================] - 1s 3ms/step - loss: 0.2666 - accuracy: 0.9115 - val_loss: 0.8873 - val_accuracy: 0.8019\n",
            "Epoch 92/100\n",
            "203/219 [==========================>...] - ETA: 0s - loss: 0.2655 - accuracy: 0.9124\n",
            "Epoch 92: val_loss did not improve from 0.74244\n",
            "219/219 [==============================] - 1s 3ms/step - loss: 0.2661 - accuracy: 0.9121 - val_loss: 0.8405 - val_accuracy: 0.8048\n",
            "Epoch 93/100\n",
            "197/219 [=========================>....] - ETA: 0s - loss: 0.2831 - accuracy: 0.9056\n",
            "Epoch 93: val_loss did not improve from 0.74244\n",
            "219/219 [==============================] - 1s 3ms/step - loss: 0.2813 - accuracy: 0.9068 - val_loss: 0.8643 - val_accuracy: 0.8168\n",
            "Epoch 94/100\n",
            "209/219 [===========================>..] - ETA: 0s - loss: 0.2800 - accuracy: 0.9013\n",
            "Epoch 94: val_loss did not improve from 0.74244\n",
            "219/219 [==============================] - 1s 3ms/step - loss: 0.2795 - accuracy: 0.9015 - val_loss: 0.8525 - val_accuracy: 0.8014\n",
            "Epoch 95/100\n",
            "204/219 [==========================>...] - ETA: 0s - loss: 0.2638 - accuracy: 0.9127\n",
            "Epoch 95: val_loss did not improve from 0.74244\n",
            "219/219 [==============================] - 1s 3ms/step - loss: 0.2691 - accuracy: 0.9104 - val_loss: 0.8368 - val_accuracy: 0.8088\n",
            "Epoch 96/100\n",
            "206/219 [===========================>..] - ETA: 0s - loss: 0.2720 - accuracy: 0.9069\n",
            "Epoch 96: val_loss did not improve from 0.74244\n",
            "219/219 [==============================] - 1s 3ms/step - loss: 0.2732 - accuracy: 0.9062 - val_loss: 0.8381 - val_accuracy: 0.8111\n",
            "Epoch 97/100\n",
            "218/219 [============================>.] - ETA: 0s - loss: 0.2562 - accuracy: 0.9156\n",
            "Epoch 97: val_loss did not improve from 0.74244\n",
            "219/219 [==============================] - 1s 3ms/step - loss: 0.2560 - accuracy: 0.9157 - val_loss: 0.8676 - val_accuracy: 0.8042\n",
            "Epoch 98/100\n",
            "217/219 [============================>.] - ETA: 0s - loss: 0.2625 - accuracy: 0.9087\n",
            "Epoch 98: val_loss did not improve from 0.74244\n",
            "219/219 [==============================] - 1s 3ms/step - loss: 0.2628 - accuracy: 0.9085 - val_loss: 0.8288 - val_accuracy: 0.8157\n",
            "Epoch 99/100\n",
            "211/219 [===========================>..] - ETA: 0s - loss: 0.2534 - accuracy: 0.9141\n",
            "Epoch 99: val_loss did not improve from 0.74244\n",
            "219/219 [==============================] - 1s 3ms/step - loss: 0.2503 - accuracy: 0.9150 - val_loss: 0.8570 - val_accuracy: 0.8054\n",
            "Epoch 100/100\n",
            "218/219 [============================>.] - ETA: 0s - loss: 0.2502 - accuracy: 0.9128\n",
            "Epoch 100: val_loss did not improve from 0.74244\n",
            "219/219 [==============================] - 1s 3ms/step - loss: 0.2501 - accuracy: 0.9128 - val_loss: 0.8740 - val_accuracy: 0.7945\n",
            "Training completed in time:  0:01:03.746516\n"
          ]
        }
      ],
      "source": [
        "r#Training Model\n",
        "from tensorflow.keras.callbacks import ModelCheckpoint\n",
        "from datetime import datetime \n",
        "\n",
        "num_epochs = 100\n",
        "num_batch_size = 32\n",
        "\n",
        "checkpointer = ModelCheckpoint(filepath='model/audio_classification.hdf5', \n",
        "                               verbose=1, save_best_only=True)\n",
        "start = datetime.now()\n",
        "\n",
        "history = model.fit(x_train, y_train, batch_size=num_batch_size, epochs=num_epochs, validation_data=(x_test, y_test), callbacks=[checkpointer], verbose=1)\n",
        "\n",
        "\n",
        "duration = datetime.now() - start\n",
        "print(\"Training completed in time: \", duration)"
      ]
    },
    {
      "cell_type": "code",
      "execution_count": null,
      "metadata": {
        "colab": {
          "base_uri": "https://localhost:8080/"
        },
        "id": "m2NtZ9qhkQK0",
        "outputId": "34f84c4b-ee84-4948-f475-ddfb9cc44452"
      },
      "outputs": [
        {
          "output_type": "execute_result",
          "data": {
            "text/plain": [
              "[0.8740182518959045, 0.7945048809051514]"
            ]
          },
          "metadata": {},
          "execution_count": 29
        }
      ],
      "source": [
        "#Testing Accuracy \n",
        "test_accuracy = model.evaluate(x_test,y_test,verbose=0)\n",
        "test_accuracy"
      ]
    },
    {
      "cell_type": "code",
      "execution_count": null,
      "metadata": {
        "colab": {
          "base_uri": "https://localhost:8080/"
        },
        "id": "PO62_qTPoMRC",
        "outputId": "ff1d6759-3b7f-4fc4-e168-192352753cc6"
      },
      "outputs": [
        {
          "output_type": "execute_result",
          "data": {
            "text/plain": [
              "3"
            ]
          },
          "metadata": {},
          "execution_count": 30
        }
      ],
      "source": [
        "#Trying to Predict for an instance\n",
        "test_file_path = 'UrbanSound8K/audio/fold1/101415-3-0-3.wav'\n",
        "prediction_feature=features_extractor(test_file_path)\n",
        "prediction_feature=prediction_feature.reshape(1,-1)\n",
        "prediction = model.predict(prediction_feature)\n",
        "np.argmax(prediction)"
      ]
    },
    {
      "cell_type": "code",
      "execution_count": null,
      "metadata": {
        "colab": {
          "base_uri": "https://localhost:8080/",
          "height": 281
        },
        "id": "NmPWqQQa4hGp",
        "outputId": "f250a468-c69c-4eb6-91de-885a94536b90"
      },
      "outputs": [
        {
          "output_type": "display_data",
          "data": {
            "text/plain": [
              "<Figure size 432x288 with 1 Axes>"
            ],
            "image/png": "[encoded data removed]"
          },
          "metadata": {
            "needs_background": "light"
          }
        }
      ],
      "source": [
        "#Plotting Graph\n",
        "loss_train = history.history['loss']\n",
        "loss_val = history.history['val_loss']\n",
        "accu = history.history['accuracy']\n",
        "accu_val = history.history['val_accuracy']\n",
        "epochs = range(0,100)\n",
        "plt.title('Training and Validation Accuracy')\n",
        "plt.plot(epochs, loss_train, 'g', label='Training loss')\n",
        "plt.plot(epochs, loss_val, 'b', label='validation loss')\n",
        "\n",
        "plt.legend()\n",
        "plt.show()"
      ]
    },
    {
      "cell_type": "code",
      "source": [
        "#Plotting Graphs\n",
        "plt.plot(epochs, accu, 'y', label='accuracy')\n",
        "plt.plot(epochs, accu_val, 'r', label='val_accuracy')\n",
        "plt.title('Training and Validation Accuracy')\n",
        "plt.xlabel('Epochs')\n",
        "plt.ylabel('Accuracy')\n",
        "plt.legend()\n",
        "plt.show()"
      ],
      "metadata": {
        "colab": {
          "base_uri": "https://localhost:8080/",
          "height": 295
        },
        "id": "0bjCJq4x0a0q",
        "outputId": "a385a126-852b-41dd-ba3c-7aba861473b7"
      },
      "execution_count": null,
      "outputs": [
        {
          "output_type": "display_data",
          "data": {
            "text/plain": [
              "<Figure size 432x288 with 1 Axes>"
            ],
            "image/png": "[encoded data removed]"
          },
          "metadata": {
            "needs_background": "light"
          }
        }
      ]
    },
    {
      "cell_type": "code",
      "source": [
        "y_pred = model.predict(x_test)\n",
        "y_pred = [np.argmax(i) for i in y_pred]\n",
        "ytest = [np.argmax(i) for i in y_test]"
      ],
      "metadata": {
        "id": "LhmKmmdPd8H7"
      },
      "execution_count": null,
      "outputs": []
    },
    {
      "cell_type": "code",
      "source": [
        "#Generating Confuion Metrics\n",
        "from sklearn import metrics\n",
        "confusion_matrix = metrics.confusion_matrix(ytest,y_pred)\n",
        "confusion_matrix\n",
        " "
      ],
      "metadata": {
        "colab": {
          "base_uri": "https://localhost:8080/"
        },
        "id": "WNTqwX_eDtdy",
        "outputId": "6f33bcbc-08ab-4ec0-fede-d737a03bdc18"
      },
      "execution_count": null,
      "outputs": [
        {
          "output_type": "execute_result",
          "data": {
            "text/plain": [
              "array([[181,   0,   5,   0,   0,   0,   0,   1,   0,   8],\n",
              "       [  1,  73,   0,   4,   2,   2,   0,   4,   0,   5],\n",
              "       [  6,   3, 129,  15,   1,   2,   7,   0,   5,  37],\n",
              "       [  4,   0,  12, 140,   1,   3,   6,   0,   6,  10],\n",
              "       [  2,   2,   5,   1, 165,   4,   0,  15,   1,   7],\n",
              "       [  6,   4,   5,   6,   3, 185,   0,   1,   0,   6],\n",
              "       [  0,   0,   7,  10,   1,   1,  59,   0,   3,   6],\n",
              "       [  1,   3,   0,   0,   3,   1,   0, 170,   0,   9],\n",
              "       [  4,   3,  11,   5,   1,   3,   0,   0, 170,   2],\n",
              "       [  7,   8,  15,  12,   7,   8,   1,   8,   1, 116]])"
            ]
          },
          "metadata": {},
          "execution_count": 34
        }
      ]
    },
    {
      "cell_type": "code",
      "source": [
        "import seaborn as sn\n",
        "plt.figure(figsize=(10,7))\n",
        "sn.heatmap(confusion_matrix,annot=True,fmt='d')\n",
        "plt.xlabel('Predicted')\n",
        "plt.ylabel('Truth')"
      ],
      "metadata": {
        "colab": {
          "base_uri": "https://localhost:8080/",
          "height": 459
        },
        "id": "D5xMsM9jbM-g",
        "outputId": "a4bcaee7-9486-40eb-ea57-63b17de7837b"
      },
      "execution_count": null,
      "outputs": [
        {
          "output_type": "execute_result",
          "data": {
            "text/plain": [
              "Text(69.0, 0.5, 'Truth')"
            ]
          },
          "metadata": {},
          "execution_count": 28
        },
        {
          "output_type": "display_data",
          "data": {
            "text/plain": [
              "<Figure size 720x504 with 2 Axes>"
            ],
            "image/png": "[encoded data removed]"
          },
          "metadata": {
            "needs_background": "light"
          }
        }
      ]
    }
  ],
  "metadata": {
    "colab": {
      "collapsed_sections": [],
      "name": "ARAI_Assignment_Audio_Classification.ipynb",
      "provenance": [],
      "authorship_tag": "ABX9TyMq/FZvo9rY537UYCnoVS9G",
      "include_colab_link": true
    },
    "kernelspec": {
      "display_name": "Python 3",
      "name": "python3"
    },
    "language_info": {
      "name": "python"
    }
  },
  "nbformat": 4,
  "nbformat_minor": 0
}